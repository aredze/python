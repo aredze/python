{
 "cells": [
  {
   "cell_type": "markdown",
   "metadata": {},
   "source": [
    "Functions"
   ]
  },
  {
   "cell_type": "code",
   "execution_count": 103,
   "metadata": {},
   "outputs": [],
   "source": [
    "import math\n",
    "\n",
    "def score_dcg(y, sorted1, k=5, option=\"sum\"):\n",
    "    \"\"\" DCG: Discount Cumulative Gain\n",
    "    y: labels (0,1)\n",
    "         - also called relevance\n",
    "         - could also be multiple classes (0,1,2,3) as long as\n",
    "    \"\"\"\n",
    "    if option==\"sum\":\n",
    "        dcg = sum([y[sorted1[i]]/math.log(i+2, 2) for i in range(k)])\n",
    "    if option==\"np.sum\":\n",
    "        dcg = np.sum([y[sorted1[i]]/math.log(i+2, 2) for i in range(k)])\n",
    "    elif option==\"nolog\":\n",
    "        dcg = sum([y[sorted1[i]] for i in range(k)])\n",
    "    \n",
    "    return dcg\n",
    "    \n",
    "def score_ndcg(y, y_proba, k=5, option=\"sum\"):\n",
    "     \"\"\" NDCG Normalized Discount Cumulative Gain\n",
    "     y: labels (0,1)\n",
    "     y_proba: probabilities to be in class 1\n",
    "\n",
    "     To do:\n",
    "     1. sort targets by y_proba and get indexes\n",
    "     1. sort targets by y and get indexes\n",
    "     2. compute dcg for top k\n",
    "     2. compute idealized dcg for top k\n",
    "     Source: https://en.wikipedia.org/wiki/Discounted_cumulative_gain\n",
    "     \"\"\"\n",
    "     if type(y) is np.ndarray:\n",
    "         pass\n",
    "     else:\n",
    "         raise\n",
    "            \n",
    "     sorted1 = np.argsort(-y_proba)\n",
    "     sorted2 = np.argsort(-y)\n",
    "\n",
    "     dcg1 = score_dcg(y, sorted1, k)\n",
    "     dcg2 = score_dcg(y, sorted2, k)\n",
    "\n",
    "     ndcg = dcg1/dcg2 if dcg2 != 0 else np.nan\n",
    "     return ndcg\n",
    "    \n",
    "def score_ndcg_mean(yLabels, yScores, k=5, discounted=True):\n",
    "     \"\"\" Multi output version of score_ndcg\n",
    "         - yLabels = the actual labels (0,1)\n",
    "         - yScores = the predicted scores for label 1 (binding)\n",
    "     \"\"\"\n",
    "     if not yLabels.ndim == 2:\n",
    "         print(\"Error\")\n",
    "     ndcg = [score_ndcg(yLabels[i], yScores[i], k) for i in range(yLabels.shape[0])]\n",
    "     return np.mean(ndcg)\n"
   ]
  },
  {
   "cell_type": "code",
   "execution_count": 72,
   "metadata": {},
   "outputs": [],
   "source": [
    "import numpy as np\n",
    "yLabels = np.random.normal(size=(4000,500))\n",
    "yLabels=np.where(yLabels>0.1,0,1)\n",
    "yScores = np.random.normal(size=(4000,500))"
   ]
  },
  {
   "cell_type": "code",
   "execution_count": 100,
   "metadata": {},
   "outputs": [
    {
     "name": "stdout",
     "output_type": "stream",
     "text": [
      "32.2 µs ± 2.28 µs per loop (mean ± std. dev. of 7 runs, 10000 loops each)\n"
     ]
    }
   ],
   "source": [
    "%timeit score_ndcg(yLabels[0], yScores[0], k=2, option=\"nolog\")"
   ]
  },
  {
   "cell_type": "code",
   "execution_count": 104,
   "metadata": {},
   "outputs": [
    {
     "name": "stdout",
     "output_type": "stream",
     "text": [
      "2.3 ms ± 47.4 µs per loop (mean ± std. dev. of 7 runs, 100 loops each)\n",
      "2.51 ms ± 335 µs per loop (mean ± std. dev. of 7 runs, 100 loops each)\n",
      "603 µs ± 78 µs per loop (mean ± std. dev. of 7 runs, 1000 loops each)\n",
      "2.39 ms ± 199 µs per loop (mean ± std. dev. of 7 runs, 100 loops each)\n",
      "573 µs ± 12.4 µs per loop (mean ± std. dev. of 7 runs, 1000 loops each)\n"
     ]
    }
   ],
   "source": [
    "%timeit score_ndcg(yLabels[0], yScores[0], k=500, option=\"sum\")\n",
    "%timeit score_ndcg(yLabels[0], yScores[0], k=500, option=\"nolog\")\n",
    "\n",
    "%timeit score_ndcg(yScores[0], yScores[0], k=500, option=\"sum\")\n",
    "%timeit score_ndcg(yLabels[0], yScores[0], k=500, option=\"np.sum\")\n",
    "%timeit score_ndcg(yScores[0], yScores[0], k=500, option=\"np.sum\")"
   ]
  },
  {
   "cell_type": "code",
   "execution_count": 98,
   "metadata": {},
   "outputs": [
    {
     "name": "stdout",
     "output_type": "stream",
     "text": [
      "2.25 ms ± 78.4 µs per loop (mean ± std. dev. of 7 runs, 100 loops each)\n",
      "587 ns ± 5.71 ns per loop (mean ± std. dev. of 7 runs, 1000000 loops each)\n",
      "586 ns ± 12.1 ns per loop (mean ± std. dev. of 7 runs, 1000000 loops each)\n",
      "584 ns ± 14.4 ns per loop (mean ± std. dev. of 7 runs, 1000000 loops each)\n"
     ]
    }
   ],
   "source": [
    "%timeit score_ndcg(yLabels[0], yScores[0], k=500, option=\"sum\")\n",
    "%timeit score_ndcg(yScores[0], yScores[0], k=500, option=\"sum\")\n",
    "%timeit score_ndcg(yScores[0], yScores[1], k=500, option=\"sum\")\n",
    "%timeit score_ndcg(yScores[0], yLabels[0], k=500, option=\"sum\")"
   ]
  },
  {
   "cell_type": "code",
   "execution_count": 85,
   "metadata": {},
   "outputs": [
    {
     "name": "stdout",
     "output_type": "stream",
     "text": [
      "(4000, 500)\n",
      "int64\n",
      "(4000, 500)\n",
      "float64\n"
     ]
    }
   ],
   "source": [
    "print(yLabels.shape)\n",
    "print(yLabels.dtype)\n",
    "print(yScores.shape)\n",
    "print(yScores.dtype)"
   ]
  },
  {
   "cell_type": "code",
   "execution_count": 88,
   "metadata": {},
   "outputs": [
    {
     "name": "stdout",
     "output_type": "stream",
     "text": [
      "105 µs ± 1.22 µs per loop (mean ± std. dev. of 7 runs, 10000 loops each)\n",
      "106 µs ± 1.47 µs per loop (mean ± std. dev. of 7 runs, 10000 loops each)\n",
      "125 µs ± 1.23 µs per loop (mean ± std. dev. of 7 runs, 10000 loops each)\n"
     ]
    }
   ],
   "source": [
    "y1=yLabels[0]\n",
    "y2=yScores[0]\n",
    "%timeit [y1[sorted1[i]] for i in range(500)]\n",
    "%timeit [y2[sorted1[i]] for i in range(500)]\n",
    "%timeit sum([y1[sorted1[i]] for i in range(500)])"
   ]
  },
  {
   "cell_type": "code",
   "execution_count": 94,
   "metadata": {},
   "outputs": [
    {
     "data": {
      "text/plain": [
       "dtype('float64')"
      ]
     },
     "execution_count": 94,
     "metadata": {},
     "output_type": "execute_result"
    }
   ],
   "source": [
    "y2.dtype"
   ]
  },
  {
   "cell_type": "code",
   "execution_count": 71,
   "metadata": {},
   "outputs": [
    {
     "data": {
      "text/plain": [
       "'5 is 5'"
      ]
     },
     "execution_count": 71,
     "metadata": {},
     "output_type": "execute_result"
    }
   ],
   "source": [
    "f\"{3+2} is 5\""
   ]
  },
  {
   "cell_type": "code",
   "execution_count": null,
   "metadata": {},
   "outputs": [],
   "source": []
  }
 ],
 "metadata": {
  "kernelspec": {
   "display_name": "Python 3",
   "language": "python",
   "name": "python3"
  },
  "language_info": {
   "codemirror_mode": {
    "name": "ipython",
    "version": 3
   },
   "file_extension": ".py",
   "mimetype": "text/x-python",
   "name": "python",
   "nbconvert_exporter": "python",
   "pygments_lexer": "ipython3",
   "version": "3.6.3"
  },
  "toc": {
   "nav_menu": {},
   "number_sections": true,
   "sideBar": true,
   "skip_h1_title": false,
   "toc_cell": false,
   "toc_position": {},
   "toc_section_display": "block",
   "toc_window_display": false
  }
 },
 "nbformat": 4,
 "nbformat_minor": 2
}
