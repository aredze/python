{
 "cells": [
  {
   "cell_type": "markdown",
   "metadata": {},
   "source": [
    "# Log AUC\n",
    "\n",
    "First import modules"
   ]
  },
  {
   "cell_type": "code",
   "execution_count": 11,
   "metadata": {},
   "outputs": [],
   "source": [
    "import numpy as np\n",
    "import math\n",
    "\n",
    "import matplotlib.pyplot as plt\n",
    "\n",
    "from sklearn.metrics import roc_curve\n",
    "from sklearn.metrics import auc"
   ]
  },
  {
   "cell_type": "markdown",
   "metadata": {},
   "source": [
    "Then test AUC"
   ]
  },
  {
   "cell_type": "code",
   "execution_count": 5,
   "metadata": {},
   "outputs": [
    {
     "data": {
      "text/plain": [
       "0.68000000000000005"
      ]
     },
     "execution_count": 5,
     "metadata": {},
     "output_type": "execute_result"
    }
   ],
   "source": [
    "yScores = np.array([0.9, 0.8, 0.7, 0.6, 0.55, 0.54, 0.53, 0.52, 0.51, 0.505, 0.4, 0.39, 0.38, 0.37, 0.36, 0.35, 0.34, 0.33, 0.30, 0.1])\n",
    "yLabels = np.array([1,1,0, 1, 1, 1, 0, 0, 1, 0, 1,0, 1, 0, 0, 0, 1 , 0, 1, 0])\n",
    "\n",
    "fpr, tpr, thresholds = roc_curve(yLabels, yScores)\n",
    "roc_auc = auc(fpr, tpr)\n",
    "\n",
    "roc_auc\n",
    "\n"
   ]
  },
  {
   "cell_type": "code",
   "execution_count": 9,
   "metadata": {},
   "outputs": [
    {
     "data": {
      "image/png": "[encoded data removed]",
      "text/plain": [
       "<matplotlib.figure.Figure at 0x1107cb710>"
      ]
     },
     "metadata": {},
     "output_type": "display_data"
    }
   ],
   "source": [
    "x=fpr\n",
    "y=tpr\n",
    "plt.plot(x,y)\n",
    "plt.show() "
   ]
  },
  {
   "cell_type": "code",
   "execution_count": 39,
   "metadata": {},
   "outputs": [
    {
     "data": {
      "image/png": "[encoded data removed]",
      "text/plain": [
       "<matplotlib.figure.Figure at 0x1109bc908>"
      ]
     },
     "metadata": {},
     "output_type": "display_data"
    }
   ],
   "source": [
    "lmbda=0.001\n",
    "ii = np.where(fpr > lmbda)[0]\n",
    "\n",
    "x=np.log10(fpr[ii])\n",
    "y=tpr[ii]\n",
    "\n",
    "plt.plot(x,y)\n",
    "plt.show() "
   ]
  },
  {
   "cell_type": "code",
   "execution_count": 14,
   "metadata": {},
   "outputs": [],
   "source": [
    "def logauc(yLabels, yScores, lmbda = 0.001):\n",
    "    \"\"\"\n",
    "    Izzy's\n",
    "    ~izharw/repos/scripts/getAUC.py\n",
    "    background here if it's useful: http://wiki.bkslab.org/index.php/LogAUC\n",
    "    Refactored code\n",
    "    \"\"\"\n",
    "    fpr, tpr, thresholds = roc_curve(yLabels, score)\n",
    "    logauc = 0\n",
    "    for i in range(len(target)):\n",
    "        if fpr[i]>lmbda:\n",
    "            break\n",
    "    logroc = ( np.log10(fpr[i+1:]) - np.log10(fpr[i:-1]) ) * ( tpr[i+1:] + tpr[i:-1] ) / (2*np.log10(1/lmbda))\n",
    "    return np.sum(logroc) - 0.14462"
   ]
  },
  {
   "cell_type": "code",
   "execution_count": 35,
   "metadata": {},
   "outputs": [
    {
     "name": "stdout",
     "output_type": "stream",
     "text": [
      "2\n"
     ]
    }
   ],
   "source": [
    "logauc = 0\n",
    "lmbda = 0.001\n",
    "for i in range(len(yLabels)):\n",
    "    if fpr[i]>lmbda:\n",
    "        break\n",
    "\n",
    "print(i)\n",
    "logroc = ( np.log10(fpr[i+1:]) - np.log10(fpr[i:-1]) ) * ( tpr[i+1:] + tpr[i:-1] ) / (2*np.log10(1/lmbda))\n"
   ]
  },
  {
   "cell_type": "markdown",
   "metadata": {},
   "source": [
    "The formula for $\\mathrm{LogAUC}_\\lambda$ is:\n",
    "\\begin{equation*}\n",
    "\\mathrm{LogAUC}_\\lambda=\\frac{\\displaystyle \\sum_{i}^{where~x_i\\ge\\lambda} (\\log_{10} x_{i+1} - \\log_{10} x_i)(\\frac{y_{i+1}+y_i}{2})}{\\log_{10}\\frac{1}{\\lambda}}\n",
    "\\end{equation*}"
   ]
  },
  {
   "cell_type": "markdown",
   "metadata": {},
   "source": [
    "The (adjusted) $\\textrm{logAUC}$:\n",
    "\\begin{equation*} \n",
    "\\textrm{LogAUC}=\\textrm{LogAUC}_{0.001}-0.14462\n",
    "\\end{equation*}"
   ]
  },
  {
   "cell_type": "code",
   "execution_count": 42,
   "metadata": {},
   "outputs": [],
   "source": [
    "def logauc1(fpr, tpr, lmbda = 0.001):\n",
    "    \"\"\"\n",
    "    Izzy's\n",
    "    ~izharw/repos/scripts/getAUC.py\n",
    "    background here if it's useful: http://wiki.bkslab.org/index.php/LogAUC\n",
    "    Refactored code\n",
    "    \"\"\"\n",
    "    for i in range(len(fpr)):\n",
    "        if fpr[i]>lmbda:\n",
    "            break\n",
    "    logroc = ( np.log10(fpr[i+1:]) - np.log10(fpr[i:-1]) ) * ( tpr[i+1:] + tpr[i:-1] ) / (2*np.log10(1/lmbda))\n",
    "    return np.sum(logroc) - 0.14462"
   ]
  },
  {
   "cell_type": "code",
   "execution_count": 49,
   "metadata": {},
   "outputs": [
    {
     "name": "stdout",
     "output_type": "stream",
     "text": [
      "0.0675305417728\n",
      "0.0144929063296\n"
     ]
    }
   ],
   "source": [
    "print(logauc1(fpr,tpr,lmbda=0.001))\n",
    "print(logauc1(fpr,tpr,lmbda=0.0001))"
   ]
  },
  {
   "cell_type": "code",
   "execution_count": null,
   "metadata": {},
   "outputs": [],
   "source": []
  }
 ],
 "metadata": {
  "kernelspec": {
   "display_name": "Python 3",
   "language": "python",
   "name": "python3"
  },
  "language_info": {
   "codemirror_mode": {
    "name": "ipython",
    "version": 3
   },
   "file_extension": ".py",
   "mimetype": "text/x-python",
   "name": "python",
   "nbconvert_exporter": "python",
   "pygments_lexer": "ipython3",
   "version": "3.6.3"
  },
  "toc": {
   "nav_menu": {},
   "number_sections": true,
   "sideBar": true,
   "skip_h1_title": false,
   "toc_cell": false,
   "toc_position": {},
   "toc_section_display": "block",
   "toc_window_display": false
  }
 },
 "nbformat": 4,
 "nbformat_minor": 2
}
