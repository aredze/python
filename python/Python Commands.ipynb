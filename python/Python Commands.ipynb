{
 "cells": [
  {
   "cell_type": "markdown",
   "metadata": {},
   "source": [
    "# Python commands\n",
    "## Printing\n",
    "### Printing list of lists "
   ]
  },
  {
   "cell_type": "code",
   "execution_count": 17,
   "metadata": {},
   "outputs": [
    {
     "name": "stdout",
     "output_type": "stream",
     "text": [
      "List is:[['a1', 'a2'], ['b1', 'b2'], ['c1', 'c2']]\n",
      "\n",
      "Formatted list of lists is:\n",
      "a1 --> a2\n",
      "b1 --> b2\n",
      "c1 --> c2\n"
     ]
    }
   ],
   "source": [
    "# - define list of lists\n",
    "a1=[[\"a1\",\"a2\"],[\"b1\",\"b2\"],[\"c1\",\"c2\"]]\n",
    "print(f\"List is:{a1}\")\n",
    "\n",
    "# - make string using join\n",
    "s1=\"\\n\".join([' --> '.join(k) for k in a1])\n",
    "\n",
    "# - print using f format\n",
    "print(f\"\\nFormatted list of lists is:\\n{s1}\")"
   ]
  },
  {
   "cell_type": "markdown",
   "metadata": {},
   "source": [
    "### Printing Dictionaries"
   ]
  },
  {
   "cell_type": "code",
   "execution_count": 13,
   "metadata": {},
   "outputs": [
    {
     "name": "stdout",
     "output_type": "stream",
     "text": [
      "Dict is: {'a1': 'a2', 'b1': 'b2', 'c1': 'c2'}\n",
      "\n",
      "Formatted dict is:\n",
      "a1 --> a2\n",
      "b1 --> b2\n",
      "c1 --> c2\n",
      "\n"
     ]
    }
   ],
   "source": [
    "# - define dictionary\n",
    "d1={\"a1\":\"a2\",\"b1\":\"b2\",\"c1\":\"c2\"}\n",
    "print(f\"Dict is: {d1}\")\n",
    "\n",
    "# - make string using join\n",
    "s1=\"\\n\".join([' --> '.join(k) for k in d1.items()])\n",
    "\n",
    "# - print using f format\n",
    "print(f\"\\nFormatted dict is:\\n{s1}\\n\")"
   ]
  },
  {
   "cell_type": "markdown",
   "metadata": {},
   "source": [
    "## ArgParse"
   ]
  },
  {
   "cell_type": "code",
   "execution_count": 56,
   "metadata": {},
   "outputs": [
    {
     "name": "stdout",
     "output_type": "stream",
     "text": [
      "['name', '--key1', '1', '--key1', '2', '--key3', '1']\n",
      "['--key1', '2', '--key2', '2', '--key3', '2']\n",
      "Dict0: {'key1': 0, 'key2': 0, 'key3': 0}\n",
      "Dict1: {'key1': 2, 'key2': 0, 'key3': 1}\n",
      "Dict2: {'key1': 2, 'key2': 2, 'key3': 2}\n"
     ]
    }
   ],
   "source": [
    "\"\"\"Printing Options\"\"\"\n",
    "import argparse\n",
    "import sys\n",
    "\n",
    "# define parser\n",
    "p = argparse.ArgumentParser()\n",
    "\n",
    "# add arguments\n",
    "p.add_argument(\"--key1\", default=0, type=int)\n",
    "p.add_argument(\"--key2\", default=0, type=int)\n",
    "p.add_argument(\"--key3\", default=0, type=int)\n",
    "\n",
    "# arguments from sys.argv (empty, default)\n",
    "sys.argv=[]\n",
    "opts0 = p.parse_args()\n",
    "\n",
    "# arguments from sys.argv (key1 defined)\n",
    "sys.argv=['name','--key1','1','--key1','2','--key3','1']\n",
    "print(sys.argv)\n",
    "opts1 = p.parse_args()\n",
    "\n",
    "# arguments from list of strings\n",
    "l1 = \"--key1 2 --key2 2 --key3 2\".split()\n",
    "print(l1)\n",
    "opts2 = p.parse_args(args = l1)\n",
    "\n",
    "# Print\n",
    "d0 = vars(opts0)\n",
    "print(f\"Dict0: {d0}\")\n",
    "\n",
    "d1 = vars(opts1)\n",
    "print(f\"Dict1: {d1}\")\n",
    "\n",
    "d2 = vars(opts2)\n",
    "print(f\"Dict2: {d2}\")"
   ]
  },
  {
   "cell_type": "code",
   "execution_count": null,
   "metadata": {},
   "outputs": [],
   "source": []
  }
 ],
 "metadata": {
  "kernelspec": {
   "display_name": "Python 3",
   "language": "python",
   "name": "python3"
  },
  "language_info": {
   "codemirror_mode": {
    "name": "ipython",
    "version": 3
   },
   "file_extension": ".py",
   "mimetype": "text/x-python",
   "name": "python",
   "nbconvert_exporter": "python",
   "pygments_lexer": "ipython3",
   "version": "3.6.3"
  },
  "toc": {
   "nav_menu": {},
   "number_sections": true,
   "sideBar": true,
   "skip_h1_title": false,
   "toc_cell": false,
   "toc_position": {},
   "toc_section_display": "block",
   "toc_window_display": false
  }
 },
 "nbformat": 4,
 "nbformat_minor": 2
}
